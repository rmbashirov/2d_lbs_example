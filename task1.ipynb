{
 "cells": [
  {
   "cell_type": "code",
   "execution_count": 1,
   "id": "13c5b6ca",
   "metadata": {},
   "outputs": [],
   "source": [
    "import numpy as np\n",
    "import matplotlib.pyplot as plt\n",
    "from matplotlib import animation"
   ]
  },
  {
   "cell_type": "code",
   "execution_count": 2,
   "id": "66ea7bec",
   "metadata": {},
   "outputs": [],
   "source": [
    "joints = np.array([\n",
    "    [0, 0],\n",
    "    [1, 0],\n",
    "    [2, 0],\n",
    "])\n",
    "minx, maxx = -1.5, 3.5\n",
    "miny, maxy = -2.5, 2.5\n",
    "\n",
    "skinning_width = 3"
   ]
  },
  {
   "cell_type": "code",
   "execution_count": 3,
   "id": "d7846487",
   "metadata": {},
   "outputs": [
    {
     "data": {
      "image/png": "[encoded data removed]",
      "text/plain": [
       "<Figure size 720x360 with 2 Axes>"
      ]
     },
     "metadata": {
      "needs_background": "light"
     },
     "output_type": "display_data"
    }
   ],
   "source": [
    "def get_w(v, width=1):\n",
    "    w1 = (v[:, 0] - joints[1, 0]) / width + 0.5\n",
    "    w1 = w1.clip(0, 1)\n",
    "    w0 = 1 - w1\n",
    "    result = np.concatenate((w0.reshape(-1, 1), w1.reshape(-1, 1)), axis=1)\n",
    "    return result\n",
    "\n",
    "def get_w1_img(h, w, minx, maxx, miny, maxy, width=1):\n",
    "    w1_img = np.zeros((h, w))\n",
    "    for xi, x in enumerate(np.linspace(minx, maxx, 500)):\n",
    "        for yi, y in enumerate(np.linspace(miny, maxy, 500)):\n",
    "            w1_img[yi, xi] = get_w(np.array((x, y)).reshape(1, 2), width=width)[0, 1]\n",
    "    return w1_img\n",
    "\n",
    "def coords_to_img_space(v, h, w):\n",
    "    v_img_space = v.copy()\n",
    "    v_img_space[:, 0] = (v[:, 0] - minx) / (maxx - minx) *  w\n",
    "    v_img_space[:, 1] = (v[:, 1] - miny) / (maxy - miny) *  h\n",
    "    return v_img_space\n",
    "\n",
    "def get_vertices(joints, r=.3, density=10):\n",
    "    vertices = []\n",
    "    for a in np.linspace(np.pi / 2, np.pi / 2 + np.pi, density):\n",
    "        dx = r * np.cos(a)\n",
    "        vx = joints[0, 0] + dx\n",
    "        dy = r * np.sin(a)\n",
    "        vy = joints[0, 1] + dy\n",
    "        vertices.append((vx, vy))\n",
    "\n",
    "    for x in np.linspace(joints[0, 0], joints[-1, 0], 2 * density + 1):\n",
    "        vertices.append((x, joints[0, 0] + dy))\n",
    "\n",
    "    for a in np.linspace(-np.pi / 2, -np.pi / 2 + np.pi, density):\n",
    "        dx = r * np.cos(a)\n",
    "        vx = joints[-1, 0] + dx\n",
    "        dy = r * np.sin(a)\n",
    "        vy = joints[-1, 1] + dy\n",
    "        vertices.append((vx, vy))\n",
    "\n",
    "    for x in np.linspace(joints[0, 0], joints[-1, 0], 2 * density + 1):\n",
    "        vertices.append((x, joints[0, 0] + dy))\n",
    "    vertices = np.array(vertices)\n",
    "    return vertices\n",
    "\n",
    "vertices = get_vertices(joints)\n",
    "\n",
    "fig, axs = plt.subplots(1, 2, figsize=(10, 5))\n",
    "h, w = 500, 500\n",
    "w1_img = get_w1_img(h, w, minx, maxx, miny, maxy, width=skinning_width)\n",
    "axs[0].imshow(w1_img, cmap='winter')\n",
    "axs[0].scatter(coords_to_img_space(vertices, h, w)[:, 0], coords_to_img_space(vertices, h, w)[:, 1], s=1, c='k')\n",
    "axs[0].scatter(coords_to_img_space(joints, h, w)[:, 0], coords_to_img_space(joints, h, w)[:, 1], s=10, c='r')\n",
    "\n",
    "axs[1].scatter(vertices[:, 0], vertices[:, 1], s=1, c='k')\n",
    "axs[1].scatter(joints[:, 0], joints[:, 1], s=10, c='r')\n",
    "axs[1].set_xlim(minx, maxx)\n",
    "axs[1].set_ylim(miny, maxy)\n",
    "\n",
    "axs[0].set_aspect(1.0)\n",
    "axs[1].set_aspect(1.0)\n",
    "plt.show()"
   ]
  },
  {
   "cell_type": "code",
   "execution_count": 4,
   "id": "79fd2ef8",
   "metadata": {},
   "outputs": [
    {
     "data": {
      "image/png": "[encoded data removed]",
      "text/plain": [
       "<Figure size 720x720 with 1 Axes>"
      ]
     },
     "metadata": {
      "needs_background": "light"
     },
     "output_type": "display_data"
    }
   ],
   "source": [
    "def angle2rotmtx(a):\n",
    "    c, s = np.cos(a), np.sin(a)\n",
    "    R = np.array(((c, -s), (s, c)))\n",
    "    return R\n",
    "\n",
    "def transform_mtx(rotmtx, translation):\n",
    "    result = np.eye(3)\n",
    "    result[:2, :2] = rotmtx\n",
    "    result[:2, [2]] = translation.reshape(2, 1)\n",
    "    return result\n",
    "\n",
    "def apply_pose_to_vertices(vertices, joints, pose):\n",
    "    # coord systems:\n",
    "    # 1) joint coord space (for joint coords it does not matter if it is canonical or posed space)\n",
    "    # 2) global coord space\n",
    "    #   2a) global coord space in canonical space (when palka is flat)\n",
    "    #   2b) global coord space in posed space (when palka is moving)\n",
    "\n",
    "\n",
    "    # transformation matrix for joint 0 in global coords in canonical space\n",
    "    canonical_global_0 = transform_mtx(np.eye(2), joints[0])  # our palka is flat -> no rotation in canonical space\n",
    "\n",
    "    # rotation for joint 0 in joint coords \n",
    "    local_r0 = angle2rotmtx(pose[0])\n",
    "\n",
    "    global_r0 = local_r0\n",
    "    global_t0 = joints[0]\n",
    "    # transformation matrix for joint 0 in global coords in posed space\n",
    "    posed_global_0 = transform_mtx(global_r0, global_t0)\n",
    "\n",
    "\n",
    "    # transformation matrix for joint 1 in global coords in canonical space\n",
    "    canonical_global_1 = transform_mtx(np.eye(2), joints[1])  # our palka is flat -> no rotation in canonical pose\n",
    "\n",
    "    # transformation matrix for all joints in global coords in canonical space\n",
    "    canonical_global = np.stack((canonical_global_0, canonical_global_1))\n",
    "    canonical_global_inv = np.stack((\n",
    "        np.linalg.inv(canonical_global_0), \n",
    "        np.linalg.inv(canonical_global_1)))\n",
    "\n",
    "    # transformation matrix for joint 1 in global coords in posed space\n",
    "    # TODO 1: understand formula\n",
    "    wtf_transform = transform_mtx(angle2rotmtx(pose[1]), joints[1] - joints[0])\n",
    "    posed_global_1 = posed_global_0 @ wtf_transform\n",
    "\n",
    "    # transformation matrix for all joints in global coords in posed space\n",
    "    posed_global = np.stack((posed_global_0, posed_global_1))\n",
    "\n",
    "    # (62, 2) \n",
    "    # skinning weights for all joints\n",
    "    # !!!! for forward skinning skinning weights are set in canonical space\n",
    "    ws = get_w(vertices, width=skinning_width)\n",
    "\n",
    "    # use homogeneous coordinate system to apply 3x3 transormation mtx\n",
    "    vertices_homo = np.concatenate((vertices, np.ones((len(vertices), 1))), axis=1)\n",
    "\n",
    "    # t - joint index, 2\n",
    "    # n - vertice index, 62\n",
    "    # i, j - axis index, 3\n",
    "\n",
    "    # (2, 3, 3), (62, 3) -> (2, 3, 62)\n",
    "    vertices_in_joint_coord = np.einsum('tij,nj->tin', canonical_global_inv, vertices_homo)\n",
    "\n",
    "    # (2, 3, 62) -> (2, 62, 3)\n",
    "    # coordinates of vertices in joint coords\n",
    "    vertices_in_joint_coord = np.swapaxes(vertices_in_joint_coord, 1, 2)\n",
    "\n",
    "    # (2, 3, 3), (2, 62, 3) -> (2, 3, 62, 3)\n",
    "    vertices_in_global_posed_coord = np.einsum('tij,tnj->tin', posed_global, vertices_in_joint_coord)\n",
    "\n",
    "    # (2, 3, 62) -> (2, 62, 3)\n",
    "    vertices_in_global_posed_coord = np.swapaxes(vertices_in_global_posed_coord, 1, 2)\n",
    "\n",
    "    # (2, 62, 3), (62, 2) -> (62, 3)\n",
    "    weighted_vertices_in_global_posed_coord = np.einsum('tnj,nt->nj', vertices_in_global_posed_coord, ws)\n",
    "    result = weighted_vertices_in_global_posed_coord\n",
    "    \n",
    "    return result\n",
    "\n",
    "\n",
    "def animate(i):\n",
    "#     if i % 30 == 0: print(i)\n",
    "    ax.clear()\n",
    "    ax.set_xlim(minx, maxx)\n",
    "    ax.set_ylim(miny, maxy)\n",
    "\n",
    "    theta0 = .2 * np.sin(2 * np.pi * 3 / frames * i)\n",
    "    theta1 = 1.3 * np.sin(2 * np.pi * 5 / frames * i)\n",
    "    \n",
    "    posed_vertices = apply_pose_to_vertices(vertices, joints, pose=[theta0, theta1])\n",
    "    posed_joints = apply_pose_to_vertices(joints, joints, pose=[theta0, theta1])\n",
    "    scatter1 = ax.scatter(posed_vertices[:, 0], posed_vertices[:, 1], s=1, c='k')\n",
    "    scatter2 = ax.scatter(posed_joints[:, 0], posed_joints[:, 1], s=10, c='r')\n",
    "#     return scatter1, scatter2\n",
    "\n",
    "\n",
    "fig, ax = plt.subplots(1, 1, figsize=(10, 10))\n",
    "ax.set_aspect(1.0)\n",
    "frames = 600\n",
    "anim = animation.FuncAnimation(fig, animate, frames=frames, interval=1000 / 60)\n",
    "anim.save('palka_boltalka.gif', writer='pillow')\n",
    "\n",
    "# plt.draw()\n",
    "# plt.show()"
   ]
  },
  {
   "cell_type": "markdown",
   "id": "909aff50",
   "metadata": {},
   "source": [
    "## TODO 2\n",
    "\n",
    "Visualize skinning weights in posed space"
   ]
  },
  {
   "cell_type": "code",
   "execution_count": 5,
   "id": "d28351f5",
   "metadata": {},
   "outputs": [],
   "source": [
    "# your code here"
   ]
  }
 ],
 "metadata": {
  "kernelspec": {
   "display_name": "Python 3",
   "language": "python",
   "name": "python3"
  },
  "language_info": {
   "codemirror_mode": {
    "name": "ipython",
    "version": 3
   },
   "file_extension": ".py",
   "mimetype": "text/x-python",
   "name": "python",
   "nbconvert_exporter": "python",
   "pygments_lexer": "ipython3",
   "version": "3.7.7"
  }
 },
 "nbformat": 4,
 "nbformat_minor": 5
}
